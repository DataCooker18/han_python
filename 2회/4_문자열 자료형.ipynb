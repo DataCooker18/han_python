{
 "cells": [
  {
   "cell_type": "markdown",
   "metadata": {},
   "source": [
    "### 홑따옴표와 쌍따옴표 같이 사용하기"
   ]
  },
  {
   "cell_type": "code",
   "execution_count": 5,
   "metadata": {},
   "outputs": [
    {
     "name": "stdout",
     "output_type": "stream",
     "text": [
      "say \"hello\" to mom\n"
     ]
    }
   ],
   "source": [
    "print('say \"hello\" to mom')"
   ]
  },
  {
   "cell_type": "code",
   "execution_count": 6,
   "metadata": {},
   "outputs": [
    {
     "name": "stdout",
     "output_type": "stream",
     "text": [
      "say 'hello' to \"mom\"\n"
     ]
    }
   ],
   "source": [
    "print('''say 'hello' to \"mom\"''')"
   ]
  },
  {
   "cell_type": "markdown",
   "metadata": {},
   "source": [
    "### 문자열 인덱싱"
   ]
  },
  {
   "cell_type": "code",
   "execution_count": 7,
   "metadata": {
    "collapsed": true
   },
   "outputs": [],
   "source": [
    "hello = \"hello world\""
   ]
  },
  {
   "cell_type": "code",
   "execution_count": 8,
   "metadata": {},
   "outputs": [
    {
     "data": {
      "text/plain": [
       "' '"
      ]
     },
     "execution_count": 8,
     "metadata": {},
     "output_type": "execute_result"
    }
   ],
   "source": [
    "hello[5]"
   ]
  },
  {
   "cell_type": "code",
   "execution_count": 9,
   "metadata": {
    "collapsed": true
   },
   "outputs": [],
   "source": [
    "greeting = 'hello world'"
   ]
  },
  {
   "cell_type": "code",
   "execution_count": 10,
   "metadata": {},
   "outputs": [
    {
     "name": "stdout",
     "output_type": "stream",
     "text": [
      "o\n"
     ]
    }
   ],
   "source": [
    "print(greeting[7])"
   ]
  },
  {
   "cell_type": "code",
   "execution_count": 11,
   "metadata": {},
   "outputs": [
    {
     "name": "stdout",
     "output_type": "stream",
     "text": [
      "d\n"
     ]
    }
   ],
   "source": [
    "print(greeting[-1])"
   ]
  },
  {
   "cell_type": "code",
   "execution_count": 12,
   "metadata": {
    "collapsed": true
   },
   "outputs": [],
   "source": [
    "lang = 'python programming'"
   ]
  },
  {
   "cell_type": "code",
   "execution_count": 15,
   "metadata": {
    "scrolled": true
   },
   "outputs": [
    {
     "data": {
      "text/plain": [
       "'p'"
      ]
     },
     "execution_count": 15,
     "metadata": {},
     "output_type": "execute_result"
    }
   ],
   "source": [
    "lang[0] # 인덱스 0의 문자"
   ]
  },
  {
   "cell_type": "code",
   "execution_count": 16,
   "metadata": {},
   "outputs": [
    {
     "data": {
      "text/plain": [
       "'pyt'"
      ]
     },
     "execution_count": 16,
     "metadata": {},
     "output_type": "execute_result"
    }
   ],
   "source": [
    "lang[0:3] # 인덱스 0부터 3-1 까지의 문자열 (0 < 3)"
   ]
  },
  {
   "cell_type": "code",
   "execution_count": 18,
   "metadata": {},
   "outputs": [
    {
     "data": {
      "text/plain": [
       "'pyt'"
      ]
     },
     "execution_count": 18,
     "metadata": {},
     "output_type": "execute_result"
    }
   ],
   "source": [
    "lang[0:3:1] #a,b,c \n",
    "# 0부터 (3-1)까지의 1간격의 문자열\n",
    "# a<b, c>0 : a부터 b-1까지 c 간격의 문자열\n",
    "# a>b, c<0 : a부터 b+1까지 c 간격의 문자열"
   ]
  },
  {
   "cell_type": "code",
   "execution_count": 19,
   "metadata": {},
   "outputs": [
    {
     "data": {
      "text/plain": [
       "'python programming'"
      ]
     },
     "execution_count": 19,
     "metadata": {},
     "output_type": "execute_result"
    }
   ],
   "source": [
    "lang[:] #문자열 전체"
   ]
  },
  {
   "cell_type": "code",
   "execution_count": 20,
   "metadata": {},
   "outputs": [
    {
     "data": {
      "text/plain": [
       "'python programming'"
      ]
     },
     "execution_count": 20,
     "metadata": {},
     "output_type": "execute_result"
    }
   ],
   "source": [
    "lang[::] #문자열 전체"
   ]
  },
  {
   "cell_type": "markdown",
   "metadata": {
    "collapsed": true
   },
   "source": [
    "lang[3:10] # 'honpro'  \n",
    "lang[:5] # 'pytho'(lang[0:5]와같다)  \n",
    "lang[10:] # 'gramming'(10부터끝까지)  \n",
    "lang[5:-8] # 'n pro' (양수, 음수섞어서사용가능)  \n",
    "lang[10:5] # 빈문자열  \n",
    "lang[-10:-13] # 빈문자열  \n",
    "lang[2:10:3] # ' tnr'  \n",
    "lang[:10:3] # 'ph o' (lang[0:10:3]와같다)  \n",
    "lang[10::2] # 'gamn' (10부터끝까지2칸씩)  \n",
    "lang[12:3:-2] # 'agr o' (12에서4까지2칸씩앞으로)  "
   ]
  },
  {
   "cell_type": "markdown",
   "metadata": {},
   "source": [
    "### 문자열 연결"
   ]
  },
  {
   "cell_type": "code",
   "execution_count": 3,
   "metadata": {
    "collapsed": true
   },
   "outputs": [],
   "source": [
    "a = 'hello'"
   ]
  },
  {
   "cell_type": "code",
   "execution_count": 22,
   "metadata": {
    "collapsed": true
   },
   "outputs": [],
   "source": [
    "b = 'world'"
   ]
  },
  {
   "cell_type": "code",
   "execution_count": 23,
   "metadata": {},
   "outputs": [
    {
     "data": {
      "text/plain": [
       "'helloworld'"
      ]
     },
     "execution_count": 23,
     "metadata": {},
     "output_type": "execute_result"
    }
   ],
   "source": [
    "a+b"
   ]
  },
  {
   "cell_type": "code",
   "execution_count": 25,
   "metadata": {},
   "outputs": [
    {
     "data": {
      "text/plain": [
       "'hello world'"
      ]
     },
     "execution_count": 25,
     "metadata": {},
     "output_type": "execute_result"
    }
   ],
   "source": [
    "a + ' ' + b"
   ]
  },
  {
   "cell_type": "code",
   "execution_count": 4,
   "metadata": {},
   "outputs": [
    {
     "data": {
      "text/plain": [
       "'hellohellohello'"
      ]
     },
     "execution_count": 4,
     "metadata": {},
     "output_type": "execute_result"
    }
   ],
   "source": [
    "a*3 #문자열 3회 반복"
   ]
  },
  {
   "cell_type": "markdown",
   "metadata": {},
   "source": [
    "### 문자열 길이 / 포함 관계"
   ]
  },
  {
   "cell_type": "markdown",
   "metadata": {},
   "source": [
    "- 문자열 길이 - len() 내장 함수"
   ]
  },
  {
   "cell_type": "code",
   "execution_count": 5,
   "metadata": {
    "collapsed": true
   },
   "outputs": [],
   "source": [
    "subject = \"Data Science\""
   ]
  },
  {
   "cell_type": "code",
   "execution_count": 6,
   "metadata": {},
   "outputs": [
    {
     "data": {
      "text/plain": [
       "12"
      ]
     },
     "execution_count": 6,
     "metadata": {},
     "output_type": "execute_result"
    }
   ],
   "source": [
    "len(subject)"
   ]
  },
  {
   "cell_type": "markdown",
   "metadata": {},
   "source": [
    "- 문자열 포함 - in, not in 연산자"
   ]
  },
  {
   "cell_type": "code",
   "execution_count": 7,
   "metadata": {},
   "outputs": [
    {
     "data": {
      "text/plain": [
       "False"
      ]
     },
     "execution_count": 7,
     "metadata": {},
     "output_type": "execute_result"
    }
   ],
   "source": [
    "'r' in subject"
   ]
  },
  {
   "cell_type": "code",
   "execution_count": 8,
   "metadata": {},
   "outputs": [
    {
     "data": {
      "text/plain": [
       "True"
      ]
     },
     "execution_count": 8,
     "metadata": {},
     "output_type": "execute_result"
    }
   ],
   "source": [
    "'ata' in subject"
   ]
  },
  {
   "cell_type": "markdown",
   "metadata": {},
   "source": [
    "### 문자열 메소드 이용하기\n",
    "\n",
    "- upper() : 문자열 모두 대문자로 바꿈\n",
    "- lower() : 문자열 모두 소문자로 바꿈\n",
    "- isupper() : 모두 대소문자일때 TRUE 반환\n",
    "- islower() : 모두 소문자일때 TRUE 반환\n",
    "- capitalize() : 첫 문자를 대문자로 바꾼다\n",
    "- title() : 문자열에서 각 단어의 첫 문자들을 대문자로 바꾼다\n",
    "- istitle()\n",
    "- count() : 부분 문자열을 센다\n",
    "- find() : 부분 문자열 찾아서 첫 인덱스를 알려준다\n",
    "- join(리스트) : 리스트에 있는 자료들을 문자열로 연결\n",
    "- split() : 문자열을 스페이스 기준으로 잘라서 리스트에 저장"
   ]
  },
  {
   "cell_type": "code",
   "execution_count": 9,
   "metadata": {
    "collapsed": true
   },
   "outputs": [],
   "source": [
    "lists = 'Jay Park in the building'"
   ]
  },
  {
   "cell_type": "code",
   "execution_count": 10,
   "metadata": {},
   "outputs": [
    {
     "data": {
      "text/plain": [
       "['Jay', 'Park', 'in', 'the', 'building']"
      ]
     },
     "execution_count": 10,
     "metadata": {},
     "output_type": "execute_result"
    }
   ],
   "source": [
    "lists.split()"
   ]
  },
  {
   "cell_type": "code",
   "execution_count": 11,
   "metadata": {},
   "outputs": [
    {
     "data": {
      "text/plain": [
       "['2016', ' 12', ' 25']"
      ]
     },
     "execution_count": 11,
     "metadata": {},
     "output_type": "execute_result"
    }
   ],
   "source": [
    "data = '2016, 12, 25'\n",
    "data.split(',') # ','로 분리"
   ]
  },
  {
   "cell_type": "code",
   "execution_count": 27,
   "metadata": {
    "collapsed": true
   },
   "outputs": [],
   "source": [
    "math = 77  \n",
    "science = 88"
   ]
  },
  {
   "cell_type": "code",
   "execution_count": 28,
   "metadata": {},
   "outputs": [
    {
     "name": "stdout",
     "output_type": "stream",
     "text": [
      "77 88\n"
     ]
    }
   ],
   "source": [
    "print(math, science)"
   ]
  },
  {
   "cell_type": "code",
   "execution_count": 29,
   "metadata": {},
   "outputs": [
    {
     "name": "stdout",
     "output_type": "stream",
     "text": [
      "내 수학점수는 >  77\n"
     ]
    }
   ],
   "source": [
    "print(\"내 수학점수는 > \", math)"
   ]
  },
  {
   "cell_type": "code",
   "execution_count": 30,
   "metadata": {},
   "outputs": [
    {
     "name": "stdout",
     "output_type": "stream",
     "text": [
      "내 과학점수는 >  88\n"
     ]
    }
   ],
   "source": [
    "print(\"내 과학점수는 > \", science)"
   ]
  },
  {
   "cell_type": "markdown",
   "metadata": {},
   "source": [
    "### .format"
   ]
  },
  {
   "cell_type": "code",
   "execution_count": 31,
   "metadata": {},
   "outputs": [
    {
     "name": "stdout",
     "output_type": "stream",
     "text": [
      "수학점수는 : 77, 과학점수는 88 \n"
     ]
    }
   ],
   "source": [
    "print(\"수학점수는 : {}, 과학점수는 {} \"\n",
    "      .format(math, science))"
   ]
  },
  {
   "cell_type": "code",
   "execution_count": 32,
   "metadata": {},
   "outputs": [
    {
     "name": "stdout",
     "output_type": "stream",
     "text": [
      "수학점수는 : 77, 과학점수는 77 \n"
     ]
    }
   ],
   "source": [
    "print(\"수학점수는 : {0}, 과학점수는 {0} \"\n",
    "      .format(math, science))"
   ]
  },
  {
   "cell_type": "code",
   "execution_count": 33,
   "metadata": {},
   "outputs": [
    {
     "name": "stdout",
     "output_type": "stream",
     "text": [
      "수학점수는 : 88, 과학점수는 88 \n"
     ]
    }
   ],
   "source": [
    "print(\"수학점수는 : {1}, 과학점수는 {1} \"\n",
    "      .format(math, science))"
   ]
  },
  {
   "cell_type": "code",
   "execution_count": 34,
   "metadata": {
    "scrolled": false
   },
   "outputs": [
    {
     "ename": "IndexError",
     "evalue": "tuple index out of range",
     "output_type": "error",
     "traceback": [
      "\u001b[1;31m---------------------------------------------------------------------------\u001b[0m",
      "\u001b[1;31mIndexError\u001b[0m                                Traceback (most recent call last)",
      "\u001b[1;32m<ipython-input-34-44fe3308518b>\u001b[0m in \u001b[0;36m<module>\u001b[1;34m()\u001b[0m\n\u001b[0;32m      1\u001b[0m print(\"수학점수는 : {1}, 과학점수는 {2} \"\n\u001b[1;32m----> 2\u001b[1;33m       .format(math, science))\n\u001b[0m",
      "\u001b[1;31mIndexError\u001b[0m: tuple index out of range"
     ]
    }
   ],
   "source": [
    "print(\"수학점수는 : {1}, 과학점수는 {2} \"\n",
    "      .format(math, science))"
   ]
  },
  {
   "cell_type": "code",
   "execution_count": 37,
   "metadata": {},
   "outputs": [
    {
     "name": "stdout",
     "output_type": "stream",
     "text": [
      "abc\n"
     ]
    }
   ],
   "source": [
    "print(\"abc\")"
   ]
  },
  {
   "cell_type": "code",
   "execution_count": 36,
   "metadata": {},
   "outputs": [
    {
     "name": "stdout",
     "output_type": "stream",
     "text": [
      "abc def"
     ]
    }
   ],
   "source": [
    "print(\"abc\", end = ' def')"
   ]
  },
  {
   "cell_type": "markdown",
   "metadata": {},
   "source": [
    "### input()"
   ]
  },
  {
   "cell_type": "code",
   "execution_count": 38,
   "metadata": {},
   "outputs": [
    {
     "name": "stdout",
     "output_type": "stream",
     "text": [
      "hello\n"
     ]
    },
    {
     "data": {
      "text/plain": [
       "'hello'"
      ]
     },
     "execution_count": 38,
     "metadata": {},
     "output_type": "execute_result"
    }
   ],
   "source": [
    "input()"
   ]
  },
  {
   "cell_type": "code",
   "execution_count": 39,
   "metadata": {},
   "outputs": [
    {
     "name": "stdout",
     "output_type": "stream",
     "text": [
      "Jay Park\n"
     ]
    }
   ],
   "source": [
    "name = input()"
   ]
  },
  {
   "cell_type": "code",
   "execution_count": 40,
   "metadata": {},
   "outputs": [
    {
     "name": "stdout",
     "output_type": "stream",
     "text": [
      "Jay Park\n"
     ]
    }
   ],
   "source": [
    "print(name)"
   ]
  },
  {
   "cell_type": "code",
   "execution_count": 41,
   "metadata": {
    "scrolled": true
   },
   "outputs": [
    {
     "name": "stdout",
     "output_type": "stream",
     "text": [
      "이름을 입력하세요 >> Jay Park\n"
     ]
    },
    {
     "data": {
      "text/plain": [
       "'Jay Park'"
      ]
     },
     "execution_count": 41,
     "metadata": {},
     "output_type": "execute_result"
    }
   ],
   "source": [
    "input(\"이름을 입력하세요 >> \")"
   ]
  },
  {
   "cell_type": "code",
   "execution_count": 2,
   "metadata": {},
   "outputs": [
    {
     "name": "stdout",
     "output_type": "stream",
     "text": [
      "이름을 입력하세요 >> jaypark\n",
      "전화번호를 입력하세요 >> 010524107\n",
      "주소를 입력하세요 >> 12341234\n",
      "이름 >> jaypark\n",
      "전화번호 >> 010524107\n",
      "주소 >> 12341234\n"
     ]
    }
   ],
   "source": [
    "name = input(\"이름을 입력하세요 >> \")\n",
    "phone = input(\"전화번호를 입력하세요 >> \")\n",
    "add = input(\"주소를 입력하세요 >> \")\n",
    "\n",
    "\n",
    "print(\"이름 >> {0}\\n전화번호 >> {1}\\n주소 >> {2}\"\n",
    "     .format(name, phone, add))"
   ]
  },
  {
   "cell_type": "markdown",
   "metadata": {
    "collapsed": true
   },
   "source": [
    "## 문제 1\n",
    "세과목(국어, 수학, 영어) 성적을input()함수로입력받아세과목의총점과평균을구하는프로그램을작성하시오. 평균은소수점둘째자리까지출력되도록한다."
   ]
  },
  {
   "cell_type": "code",
   "execution_count": 8,
   "metadata": {},
   "outputs": [
    {
     "name": "stdout",
     "output_type": "stream",
     "text": [
      "국어 성적을 입력하세요 : 50\n",
      "수학 성적을 입력하세요 : 50\n",
      "영어 성적을 입력하세요 : 50\n",
      "\n",
      "입력받은 성적\n",
      "\n",
      "----------------\n",
      "국어 성적 : 50\n",
      "수학 성적 : 50\n",
      "영어 성적 : 50\n",
      "\n",
      "----------------\n",
      "총점 : 150\n",
      "평균 : 50.0\n"
     ]
    }
   ],
   "source": [
    "korean = int(input(\"국어 성적을 입력하세요 : \"))\n",
    "math = int(input(\"수학 성적을 입력하세요 : \"))\n",
    "english = int(input(\"영어 성적을 입력하세요 : \"))\n",
    "print()\n",
    "\n",
    "print(\"입력받은 성적\")\n",
    "print()\n",
    "print(\"----------------\")\n",
    "print(\"국어 성적 : {}\".format(korean))\n",
    "print(\"수학 성적 : {}\".format(math))\n",
    "print(\"영어 성적 : {}\\n\".format(english))\n",
    "print(\"----------------\")\n",
    "\n",
    "print(\"총점 : {}\".format(korean+math+english))\n",
    "print(\"평균 : {}\".format((korean+math+english)/3))"
   ]
  },
  {
   "cell_type": "code",
   "execution_count": 22,
   "metadata": {
    "scrolled": true
   },
   "outputs": [
    {
     "name": "stdout",
     "output_type": "stream",
     "text": [
      "국어 성적을 입력하세요 : 50\n",
      "수학 성적을 입력하세요 : 50\n",
      "영어 성적을 입력하세요 : 50\n",
      "\n",
      "입력받은 성적\n",
      "\n",
      "---------------\n",
      "국어 성적 : 50\n",
      "수학 성적 : 50\n",
      "영어 성적 : 50\n",
      "\n",
      "---------------\n",
      "총점 : 150\n",
      "평균 : 50.00\n"
     ]
    }
   ],
   "source": [
    "korean = int(input(\"국어 성적을 입력하세요 : \"))\n",
    "math = int(input(\"수학 성적을 입력하세요 : \"))\n",
    "english = int(input(\"영어 성적을 입력하세요 : \"))\n",
    "print()\n",
    "\n",
    "print(\"입력받은 성적\")\n",
    "print()\n",
    "print(\"---------------\") #print(\"-\"*15)\n",
    "print(\"국어 성적 : {}\".format(korean))\n",
    "print(\"수학 성적 : {}\".format(math))\n",
    "print(\"영어 성적 : {}\\n\".format(english))\n",
    "print(\"---------------\")\n",
    "\n",
    "total = korean + math + english\n",
    "avg = (total/3)\n",
    "\n",
    "print(\"총점 : {}\".format(total))\n",
    "print(\"평균 : {0:.2f}\".format(avg))"
   ]
  },
  {
   "cell_type": "code",
   "execution_count": 21,
   "metadata": {
    "scrolled": false
   },
   "outputs": [
    {
     "name": "stdout",
     "output_type": "stream",
     "text": [
      "---------------\n"
     ]
    }
   ],
   "source": [
    "print(\"-\"*15)"
   ]
  },
  {
   "cell_type": "markdown",
   "metadata": {},
   "source": [
    "## 문제 2\n",
    "input() 함수를이용하여원의반지름을입력받는다. 입력받은반지름으로원의넓이와원의둘레를구하여소수셋째자리까지출력하는프로그램을작성하시오. 원주율을3.141592로한다."
   ]
  },
  {
   "cell_type": "code",
   "execution_count": 29,
   "metadata": {},
   "outputs": [
    {
     "name": "stdout",
     "output_type": "stream",
     "text": [
      "반지름을 입력하시오 : 5\n",
      "반지름 : 5\n",
      "원의 넓이 : 78.540\n",
      "원의 둘레 : 31.416\n"
     ]
    }
   ],
   "source": [
    "r = int(input(\"반지름을 입력하시오 : \"))\n",
    "print(\"반지름 : {}\" .format(r))\n",
    "\n",
    "area = (3.141592)*r**2 #(3.141592)*pow(r,2)\n",
    "cir = 2*(3.141592)*r\n",
    "\n",
    "print(\"원의 넓이 : {0:.3f}\" .format(area)) \n",
    "#print('원의 넓이 : %7.3f' %area)\n",
    "print(\"원의 둘레 : {0:.3f}\" .format(cir))\n",
    "#print('원의 둘레 : %.3f' %cir)"
   ]
  },
  {
   "cell_type": "markdown",
   "metadata": {},
   "source": [
    "## 문제 3\n",
    "다섯자리양의정수를입력받아서다음과같이각자리수를떼어서출력하는프로그램을작성하시오. 항상올바르게다섯자리숫자를입력하고1~9의수만입력한다고가정한다."
   ]
  },
  {
   "cell_type": "code",
   "execution_count": null,
   "metadata": {
    "collapsed": true
   },
   "outputs": [],
   "source": [
    "number"
   ]
  }
 ],
 "metadata": {
  "kernelspec": {
   "display_name": "Python 3",
   "language": "python",
   "name": "python3"
  },
  "language_info": {
   "codemirror_mode": {
    "name": "ipython",
    "version": 3
   },
   "file_extension": ".py",
   "mimetype": "text/x-python",
   "name": "python",
   "nbconvert_exporter": "python",
   "pygments_lexer": "ipython3",
   "version": "3.6.3"
  }
 },
 "nbformat": 4,
 "nbformat_minor": 2
}
