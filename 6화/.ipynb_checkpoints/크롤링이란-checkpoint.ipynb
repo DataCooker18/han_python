{
 "cells": [
  {
   "cell_type": "code",
   "execution_count": 1,
   "metadata": {
    "collapsed": true
   },
   "outputs": [],
   "source": [
    "from IPython.display import YouTubeVideo"
   ]
  },
  {
   "cell_type": "markdown",
   "metadata": {},
   "source": [
    "# 인터넷, 웹이란?\n",
    "[What is the world wide web? - Twila Camp](https://www.youtube.com/watch?v=J8hzJxb0rpc)"
   ]
  },
  {
   "cell_type": "code",
   "execution_count": 1,
   "metadata": {},
   "outputs": [
    {
     "ename": "NameError",
     "evalue": "name 'YouTubeVideo' is not defined",
     "output_type": "error",
     "traceback": [
      "\u001b[1;31m---------------------------------------------------------------------------\u001b[0m",
      "\u001b[1;31mNameError\u001b[0m                                 Traceback (most recent call last)",
      "\u001b[1;32m<ipython-input-1-cb749a1cef27>\u001b[0m in \u001b[0;36m<module>\u001b[1;34m()\u001b[0m\n\u001b[1;32m----> 1\u001b[1;33m \u001b[0mYouTubeVideo\u001b[0m\u001b[1;33m(\u001b[0m\u001b[1;34m\"J8hzJxb0rpc\"\u001b[0m\u001b[1;33m)\u001b[0m\u001b[1;33m\u001b[0m\u001b[0m\n\u001b[0m",
      "\u001b[1;31mNameError\u001b[0m: name 'YouTubeVideo' is not defined"
     ]
    }
   ],
   "source": [
    "YouTubeVideo(\"J8hzJxb0rpc\")"
   ]
  },
  {
   "cell_type": "markdown",
   "metadata": {},
   "source": [
    "# 주요개념 \n",
    "\n",
    "[인터넷(Interne) - 위키](https://ko.wikipedia.org/wiki/%EC%9D%B8%ED%84%B0%EB%84%B7)\n",
    "- 네트워크의 네트워크\n",
    "- IoT(여러 기기 간 연결)\n",
    "\n",
    "[웹(WWW, World Wide Web) - 위키](https://ko.wikipedia.org/wiki/%EC%9B%94%EB%93%9C_%EC%99%80%EC%9D%B4%EB%93%9C_%EC%9B%B9)\n",
    "- 인터넷 상에 존재하는 정보 공간\n",
    "\n",
    "[웹페이지 - 위키](https://ko.wikipedia.org/wiki/%EC%9B%B9_%ED%8E%98%EC%9D%B4%EC%A7%80)\n",
    "- 웹 상에 있는 문서\n",
    "\n",
    "[URI(Uniform Resource Identifier) = url+ urn , 블로그](http://www.hakawati.co.kr/361)\n",
    "- 간단하게 주소라고 생각하자.\n",
    "\n",
    "[웹브라우저 - 위키](https://ko.wikipedia.org/wiki/%EC%9B%B9_%EB%B8%8C%EB%9D%BC%EC%9A%B0%EC%A0%80)\n",
    "- 익스플로러, 크롬, 파이어 폭스\n",
    "- 웹 서버에 html을 요청\n",
    "- 웹 문서를 번역하여 그래픽하게 보여준다.    \n",
    "\n",
    "[웹 서버 - 위키](https://ko.wikipedia.org/wiki/%EC%9B%B9_%EC%84%9C%EB%B2%84)\n",
    "- 웹 문서 저장소\n",
    "- 웹브라우저(클라이언트)의 요청에 따라 저장소에 있는 웹 문서로 응답함\n",
    "\n",
    "\n",
    "[HTML - 위키](https://ko.wikipedia.org/wiki/HTML)\n",
    "- 웹페이지를 작성하는 언어\n",
    "\n",
    "[HTTP - 위키](https://ko.wikipedia.org/wiki/HTTP)\n",
    "- 웹문서를 주고 받는 통신 규약(약속)"
   ]
  },
  {
   "cell_type": "markdown",
   "metadata": {},
   "source": [
    "---"
   ]
  },
  {
   "cell_type": "markdown",
   "metadata": {},
   "source": [
    "웹에는 수~~ 많은 자료가 있다.  \n",
    "그 자료들을 어떻게 모을까?  \n",
    "\n",
    "**방법**\n",
    "1. 사람이 직접 copy & paste\n",
    "2. 자동화"
   ]
  },
  {
   "cell_type": "markdown",
   "metadata": {},
   "source": [
    "1, 사람이 직접 copy&paste을 할 수 있지만   \n",
    "수~~ 많은 자료들을 노가다로 얻기에는 한계가 있다."
   ]
  },
  {
   "cell_type": "markdown",
   "metadata": {},
   "source": [
    "2, 자동화에 대해 알아보자."
   ]
  },
  {
   "cell_type": "markdown",
   "metadata": {},
   "source": [
    "# What is Crawling?\n",
    "Crawling = Web Scrapping \n",
    "\n",
    "프로그램을 통해 웹의 자료들을 수집&가공 + 자동화 과정  "
   ]
  },
  {
   "cell_type": "markdown",
   "metadata": {},
   "source": [
    "웹 페이지는 HTTP(S)프로토콜의 결과이다(클라이언트의 요청, 서버의 응답)  \n",
    "웹 페이지 = HTML(골격) + CSS(디자인) + Javascript(움직임) "
   ]
  },
  {
   "cell_type": "markdown",
   "metadata": {},
   "source": [
    "**어떻게 웹 문서(웹페이지)를 주고 받을까?**"
   ]
  },
  {
   "cell_type": "markdown",
   "metadata": {},
   "source": [
    "클라이언트(웹브라우저) ------(HTTP(S))----- 서버"
   ]
  },
  {
   "cell_type": "markdown",
   "metadata": {},
   "source": [
    "1. 클라이언트 -----(requests,요청)-----> 서버\n",
    "2. 클라이언트 <----(response,응답)------ 서버"
   ]
  },
  {
   "cell_type": "markdown",
   "metadata": {},
   "source": [
    "HTTP 요청하는 방법\n",
    "- 웹접속\n",
    "- 새로고침\n",
    "- API 등 등"
   ]
  },
  {
   "cell_type": "markdown",
   "metadata": {},
   "source": [
    "### What is HTTP?\n",
    "Hypertext transfer Protocol  \n",
    "[HTTP 개요](https://developer.mozilla.org/ko/docs/Web/HTTP/Overview)"
   ]
  },
  {
   "cell_type": "markdown",
   "metadata": {},
   "source": [
    "html, css, javascript, image, video 등 웹 상의 데이터 전송하는 약속(규약)"
   ]
  },
  {
   "cell_type": "markdown",
   "metadata": {},
   "source": [
    "URI(주소) 특정 자원의 위치(주소)! : WWW상의 특정 서버의 특정자원\n",
    "\n",
    "ex) http://news.naver.com/main/main.nhn?mode=LSD&mid=shm&sid1=100   \n",
    "https: 포로토콜(http or https)  \n",
    "news.naver.com : 서버 도메인  \n",
    "main/main.nhn?mode=LSD&mid=shm&sid1=100 : 요청할 자료"
   ]
  },
  {
   "cell_type": "markdown",
   "metadata": {},
   "source": [
    "Method 설명\n",
    "- **GET : 리소스 요청 **\n",
    "- **POST : 리소스 추가 요청/수정/삭제 **\n",
    "- PUT : 대개 리소스 수정 요청\n",
    "- DELETE : 대개 리소스 삭제 요청\n",
    "- HEAD : HTTP 헤더 정보만 요청. 해당 자원 존재여부 확인 목적\n",
    "- OPTIONS :  웹서버가 지원하는 메서드 종류 반환 요청\n",
    "- TRACE : 클라이언트의 요청을 그대로 반환"
   ]
  },
  {
   "cell_type": "code",
   "execution_count": null,
   "metadata": {
    "collapsed": true
   },
   "outputs": [],
   "source": []
  }
 ],
 "metadata": {
  "kernelspec": {
   "display_name": "Python 3",
   "language": "python",
   "name": "python3"
  },
  "language_info": {
   "codemirror_mode": {
    "name": "ipython",
    "version": 3
   },
   "file_extension": ".py",
   "mimetype": "text/x-python",
   "name": "python",
   "nbconvert_exporter": "python",
   "pygments_lexer": "ipython3",
   "version": "3.6.3"
  }
 },
 "nbformat": 4,
 "nbformat_minor": 2
}
